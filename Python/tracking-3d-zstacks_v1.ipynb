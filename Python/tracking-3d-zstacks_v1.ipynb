{
 "cells": [
  {
   "cell_type": "markdown",
   "metadata": {},
   "source": [
    "# Feature finding in 3D confocal images"
   ]
  },
  {
   "cell_type": "markdown",
   "metadata": {},
   "source": [
    "Confocal microscopy is a techique that is able to make image slices of your sample. New developments (spinning disk scanning, resonant mirrors) have made this technique sufficiently fast for 3D tracking. Commonly, the sample is mounted on a piezo stage that is able to quickly scan the sample in Z direction. In this way, sequences of Z pictures can be made. By repeating this, the sample can be followed real-time in 3D.\n",
    "\n",
    "Because of the different techniques used for XY and Z resolution, pixel sizes in these directions are mostly not equal. It is easy to extend the method of Crocker & Grier to 3 dimensions with different feature sizes. Trackpy can do this from version v0.3; the only thing you need to do is load your images as 3 dimensional numpy arrays and supply a tuple value for diameter, describing feature size in each dimension."
   ]
  },
  {
   "cell_type": "markdown",
   "metadata": {},
   "source": [
    "First, we initalize IPython and load the required packages. PIMS and Trackpy v0.3 are required."
   ]
  },
  {
   "cell_type": "markdown",
   "metadata": {},
   "source": [
    "## Setup IPython, pims, trackpy"
   ]
  },
  {
   "cell_type": "code",
   "execution_count": 34,
   "metadata": {
    "collapsed": false
   },
   "outputs": [],
   "source": [
    "%matplotlib inline\n",
    "import matplotlib as mpl\n",
    "import matplotlib.pyplot as plt\n",
    "mpl.rc('figure',  figsize=(10, 6))\n",
    "import numpy as np\n",
    "import pandas as pd\n",
    "from pandas import DataFrame, Series  # for convenience\n",
    "\n",
    "import pims\n",
    "import trackpy as tp\n",
    "import os"
   ]
  },
  {
   "cell_type": "markdown",
   "metadata": {},
   "source": [
    "## Import 3D images"
   ]
  },
  {
   "cell_type": "markdown",
   "metadata": {},
   "source": [
    "We make use of `ImageSequenceND`. This reader class searches for files matching a certain search string. The filename should contain indentifiers for each axis (dimension). For example `\"demo_t001_z001.png\"` contains identifiers `t` and `z`. We set the returned image axes to `zyx` and the iterating axis to `t`. In this way we get 3D images indexed by `t`.\n",
    "\n",
    "For this tutorial, the images are inside a zipfile. You can extract the images from the specified archive to check them out."
   ]
  },
  {
   "cell_type": "code",
   "execution_count": 35,
   "metadata": {
    "collapsed": false
   },
   "outputs": [
    {
     "data": {
      "text/plain": [
       "<ImageSequenceND>\n",
       "Source: C:\\Eric\\Xerox Data\\30um gap runs\\6-22-17 0.3333Hz\\1.4V sweep pauses\\ampsweep_pre_train\\3.0V\\u_combined\\*.tif\n",
       "Axes: 4\n",
       "Axis 'y' size: 512\n",
       "Axis 'x' size: 512\n",
       "Axis 'z' size: 50\n",
       "Axis 't' size: 6\n",
       "Pixel Datatype: uint8"
      ]
     },
     "execution_count": 35,
     "metadata": {},
     "output_type": "execute_result"
    }
   ],
   "source": [
    "path = r'C:\\Eric\\Xerox Data\\30um gap runs\\6-22-17 0.3333Hz\\1.4V sweep pauses\\ampsweep_pre_train\\3.0V\\u_combined\\*.tif';\n",
    "frames = pims.ImageSequenceND(path, axes_identifiers = ['t', 'z'])\n",
    "# frames.bundle_axes = ['z', 'y', 'x']    # Not actually necessary. Already bundles z,y,x\n",
    "frames.iter_axes = 't'\n",
    "frames"
   ]
  },
  {
   "cell_type": "markdown",
   "metadata": {},
   "source": [
    "The time-index of the first frame is always 0, regardless of the index in the filename. We can use `pims` 3d scrollable stack feature to display a 3D image. Use the scroll wheel to scroll through the focal planes.\n",
    "\n",
    "This feature will not work online, download the example and run it yourself to checkout the scrollable stack feature."
   ]
  },
  {
   "cell_type": "code",
   "execution_count": 36,
   "metadata": {
    "collapsed": false
   },
   "outputs": [],
   "source": [
    "# frames[1]"
   ]
  },
  {
   "cell_type": "markdown",
   "metadata": {},
   "source": [
    "## Feature finding"
   ]
  },
  {
   "cell_type": "markdown",
   "metadata": {},
   "source": [
    "Now we can use `trackpy.locate` to generate a table (a pandas `DataFrame`) of the feature coordinates. `locate` only requires a feature diameter. This needs to be an odd integer and can be specified for each dimension seperately. The order of dimensions is the same as the order of the image array, typically (z, y, x)."
   ]
  },
  {
   "cell_type": "code",
   "execution_count": 37,
   "metadata": {
    "collapsed": false
   },
   "outputs": [],
   "source": [
    "# features = tp.locate(frames[0], diameter=(15, 15, 15), invert = False, separation = (7,7,7), preprocess = False, minmass = 60000) \n",
    "# # preprocess = False disables bandpass filtering by trackpy (do my own first instead)\n",
    "# features.head()  # displays first 5 rows\n",
    "# print('Features found: {0}'.format(len(features)))"
   ]
  },
  {
   "cell_type": "markdown",
   "metadata": {},
   "source": [
    "## Batch processing"
   ]
  },
  {
   "cell_type": "markdown",
   "metadata": {},
   "source": [
    "We use the optimized settings and iterate through the full movie."
   ]
  },
  {
   "cell_type": "code",
   "execution_count": 38,
   "metadata": {
    "collapsed": false
   },
   "outputs": [
    {
     "name": "stdout",
     "output_type": "stream",
     "text": [
      "Frame 5: 1442 features\n"
     ]
    }
   ],
   "source": [
    "f = tp.batch(frames, diameter=(15, 15, 15), invert = False, separation = (7,7,7), preprocess = False, minmass = 60000)"
   ]
  },
  {
   "cell_type": "code",
   "execution_count": 39,
   "metadata": {
    "collapsed": false
   },
   "outputs": [
    {
     "data": {
      "text/html": [
       "<div>\n",
       "<table border=\"1\" class=\"dataframe\">\n",
       "  <thead>\n",
       "    <tr style=\"text-align: right;\">\n",
       "      <th></th>\n",
       "      <th>x</th>\n",
       "      <th>y</th>\n",
       "      <th>z</th>\n",
       "      <th>mass</th>\n",
       "      <th>size</th>\n",
       "      <th>ecc</th>\n",
       "      <th>signal</th>\n",
       "      <th>raw_mass</th>\n",
       "      <th>ep</th>\n",
       "      <th>frame</th>\n",
       "    </tr>\n",
       "  </thead>\n",
       "  <tbody>\n",
       "    <tr>\n",
       "      <th>0</th>\n",
       "      <td>484.752519</td>\n",
       "      <td>34.253564</td>\n",
       "      <td>6.916422</td>\n",
       "      <td>120163.0</td>\n",
       "      <td>4.980416</td>\n",
       "      <td>NaN</td>\n",
       "      <td>144.0</td>\n",
       "      <td>120163.0</td>\n",
       "      <td>NaN</td>\n",
       "      <td>0</td>\n",
       "    </tr>\n",
       "    <tr>\n",
       "      <th>1</th>\n",
       "      <td>492.173408</td>\n",
       "      <td>49.754112</td>\n",
       "      <td>6.337741</td>\n",
       "      <td>109424.0</td>\n",
       "      <td>5.047752</td>\n",
       "      <td>NaN</td>\n",
       "      <td>131.0</td>\n",
       "      <td>109424.0</td>\n",
       "      <td>NaN</td>\n",
       "      <td>0</td>\n",
       "    </tr>\n",
       "    <tr>\n",
       "      <th>2</th>\n",
       "      <td>30.706042</td>\n",
       "      <td>53.522851</td>\n",
       "      <td>6.785843</td>\n",
       "      <td>92292.0</td>\n",
       "      <td>5.016628</td>\n",
       "      <td>NaN</td>\n",
       "      <td>110.0</td>\n",
       "      <td>92292.0</td>\n",
       "      <td>NaN</td>\n",
       "      <td>0</td>\n",
       "    </tr>\n",
       "    <tr>\n",
       "      <th>3</th>\n",
       "      <td>353.361230</td>\n",
       "      <td>61.541657</td>\n",
       "      <td>6.586595</td>\n",
       "      <td>135811.0</td>\n",
       "      <td>5.045837</td>\n",
       "      <td>NaN</td>\n",
       "      <td>145.0</td>\n",
       "      <td>135811.0</td>\n",
       "      <td>NaN</td>\n",
       "      <td>0</td>\n",
       "    </tr>\n",
       "    <tr>\n",
       "      <th>4</th>\n",
       "      <td>292.988228</td>\n",
       "      <td>71.440582</td>\n",
       "      <td>8.232312</td>\n",
       "      <td>118668.0</td>\n",
       "      <td>5.001533</td>\n",
       "      <td>NaN</td>\n",
       "      <td>133.0</td>\n",
       "      <td>118668.0</td>\n",
       "      <td>NaN</td>\n",
       "      <td>0</td>\n",
       "    </tr>\n",
       "  </tbody>\n",
       "</table>\n",
       "</div>"
      ],
      "text/plain": [
       "            x          y         z      mass      size  ecc  signal  raw_mass  \\\n",
       "0  484.752519  34.253564  6.916422  120163.0  4.980416  NaN   144.0  120163.0   \n",
       "1  492.173408  49.754112  6.337741  109424.0  5.047752  NaN   131.0  109424.0   \n",
       "2   30.706042  53.522851  6.785843   92292.0  5.016628  NaN   110.0   92292.0   \n",
       "3  353.361230  61.541657  6.586595  135811.0  5.045837  NaN   145.0  135811.0   \n",
       "4  292.988228  71.440582  8.232312  118668.0  5.001533  NaN   133.0  118668.0   \n",
       "\n",
       "   ep  frame  \n",
       "0 NaN      0  \n",
       "1 NaN      0  \n",
       "2 NaN      0  \n",
       "3 NaN      0  \n",
       "4 NaN      0  "
      ]
     },
     "execution_count": 39,
     "metadata": {},
     "output_type": "execute_result"
    }
   ],
   "source": [
    "f.head()"
   ]
  },
  {
   "cell_type": "code",
   "execution_count": 40,
   "metadata": {
    "collapsed": false
   },
   "outputs": [],
   "source": [
    "#Save the data to csv file\n",
    "f.to_csv(path[:-5] + 'positions.csv')"
   ]
  },
  {
   "cell_type": "markdown",
   "metadata": {},
   "source": [
    "## Linking"
   ]
  },
  {
   "cell_type": "markdown",
   "metadata": {},
   "source": [
    "The linking features of trackpy support an arbitrary number of dimensions. The argument pos_columns will determine which and how many dimensions will be used. The standard set of columns is `['x', 'y']`. For 3d we have to set this to `['x', 'y', 'z']`. \n",
    "Linking treats all dimensions equally. For this example we are using a file with unequal pixel sizes: 0.21 microns in XY and 0.75 microns in Z, so we first define new columns in units of microns."
   ]
  },
  {
   "cell_type": "code",
   "execution_count": 41,
   "metadata": {
    "collapsed": false
   },
   "outputs": [],
   "source": [
    "f['xum'] = f['x'] * 0.125\n",
    "f['yum'] = f['y'] * 0.125\n",
    "f['zum'] = f['z'] * 0.12"
   ]
  },
  {
   "cell_type": "markdown",
   "metadata": {},
   "source": [
    "Experimentally, there is a tradeoff between framerate and z pixel size. If you want to have higher z resolution, you scan slower and your framerate goes down. In this specific experiment the z resolution is low, so that we are able to link particles between subsequent frames. We try several linking distances here."
   ]
  },
  {
   "cell_type": "code",
   "execution_count": 42,
   "metadata": {
    "collapsed": false
   },
   "outputs": [
    {
     "name": "stdout",
     "output_type": "stream",
     "text": [
      "Frame 5: 1442 trajectories present\n"
     ]
    },
    {
     "data": {
      "image/png": "[encoded data removed]",
      "text/plain": [
       "<matplotlib.figure.Figure at 0xf6c6ef0>"
      ]
     },
     "metadata": {},
     "output_type": "display_data"
    }
   ],
   "source": [
    "for search_range in [0.5, 1.0, 1.5]:\n",
    "    linked = tp.link_df(f, search_range, pos_columns=['xum', 'yum', 'zum'])\n",
    "    hist, bins = np.histogram(np.bincount(linked.particle.astype(int)),\n",
    "                              bins=np.arange(30), normed=True)\n",
    "    plt.step(bins[1:], hist, label='range = {} microns'.format(search_range))\n",
    "plt.ylabel('relative frequency')\n",
    "plt.xlabel('track length (frames)')\n",
    "plt.legend();"
   ]
  },
  {
   "cell_type": "markdown",
   "metadata": {},
   "source": [
    "## Mean squared displacement"
   ]
  },
  {
   "cell_type": "markdown",
   "metadata": {},
   "source": [
    "We use a search range of 2.0 microns, because there is no significant improvement between 2.0 and 2.5 microns."
   ]
  },
  {
   "cell_type": "code",
   "execution_count": 43,
   "metadata": {
    "collapsed": false
   },
   "outputs": [
    {
     "name": "stdout",
     "output_type": "stream",
     "text": [
      "Frame 5: 1442 trajectories present\n"
     ]
    }
   ],
   "source": [
    "linked = tp.link_df(f, 1.0, pos_columns=['xum', 'yum', 'zum'])"
   ]
  },
  {
   "cell_type": "code",
   "execution_count": 44,
   "metadata": {
    "collapsed": false
   },
   "outputs": [],
   "source": [
    "# linked.head()\n",
    "\n",
    "#Save the data to csv file\n",
    "linked.to_csv(path[:-5] + 'linked.csv');"
   ]
  },
  {
   "cell_type": "markdown",
   "metadata": {},
   "source": [
    "With the trajectories we can calculate the mean squared displacement. To calculate the mean squared displacement from all three dimensions, we need to tell trackpy which position columns to use. It defaults to `['x', 'y']`.\n",
    "\n",
    "We specify `mpp=1` because we have already transformed our data to microns."
   ]
  },
  {
   "cell_type": "code",
   "execution_count": 48,
   "metadata": {
    "collapsed": false
   },
   "outputs": [
    {
     "data": {
      "image/png": "[encoded data removed]",
      "text/plain": [
       "<matplotlib.figure.Figure at 0xf158d30>"
      ]
     },
     "metadata": {},
     "output_type": "display_data"
    }
   ],
   "source": [
    "msd3D = tp.emsd(linked, mpp=1, fps=1, max_lagtime=20,\n",
    "                pos_columns=['xum', 'yum', 'zum'])\n",
    "ax = msd3D.plot(style='o', label='MSD in 3D')\n",
    "ax.set_ylabel(r'$\\langle \\Delta r^2 \\rangle$ [$\\mu$m$^2$]')\n",
    "ax.set_xlabel('lag time $cycles$')\n",
    "ax.set_xlim(0, 5)\n",
    "ax.set_ylim(0, 1)\n",
    "ax.legend(loc='upper left');"
   ]
  },
  {
   "cell_type": "code",
   "execution_count": 49,
   "metadata": {
    "collapsed": false
   },
   "outputs": [
    {
     "name": "stdout",
     "output_type": "stream",
     "text": [
      "lagt\n",
      "1.0    0.198003\n",
      "2.0    0.360222\n",
      "3.0    0.480645\n",
      "4.0    0.641330\n",
      "5.0    0.791044\n",
      "Name: msd, dtype: float64\n"
     ]
    }
   ],
   "source": [
    "#Save the msd to csv file\n",
    "msd3D.to_csv(path[:-5] + 'msd3D.csv');"
   ]
  },
  {
   "cell_type": "markdown",
   "metadata": {},
   "source": [
    "The mean squared displacement in three dimensional Brownian motion is described by the following relation:\n",
    "\n",
    "$$\\langle x^2 \\rangle = 6 D t$$\n",
    "\n",
    "Let's do a fit and calculate the diffusion constant!"
   ]
  },
  {
   "cell_type": "code",
   "execution_count": 46,
   "metadata": {
    "collapsed": false
   },
   "outputs": [
    {
     "name": "stdout",
     "output_type": "stream",
     "text": [
      "The diffusion constant is 0.03 μm²/s\n"
     ]
    },
    {
     "data": {
      "image/png": "[encoded data removed]",
      "text/plain": [
       "<matplotlib.figure.Figure at 0xf225d30>"
      ]
     },
     "metadata": {},
     "output_type": "display_data"
    }
   ],
   "source": [
    "slope = np.linalg.lstsq(msd3D.index[:, np.newaxis], msd3D)[0][0]\n",
    "\n",
    "ax = msd3D.plot(style='o', label='MSD in 3D')\n",
    "ax.plot(np.arange(20), slope * np.arange(20), label='linear fit')\n",
    "ax.set(ylabel=r'$\\langle \\Delta r^2 \\rangle$ [$\\mu$m$^2$]', xlabel='lag time $cycles$')\n",
    "ax.set(xlim=(0, 3), ylim=(0, 0.5))\n",
    "ax.legend(loc='upper left')\n",
    "print(r'The diffusion constant is {0:.2f} μm²/s'.format(slope / 6))"
   ]
  }
 ],
 "metadata": {
  "kernelspec": {
   "display_name": "Python 2",
   "language": "python",
   "name": "python2"
  },
  "language_info": {
   "codemirror_mode": {
    "name": "ipython",
    "version": 2
   },
   "file_extension": ".py",
   "mimetype": "text/x-python",
   "name": "python",
   "nbconvert_exporter": "python",
   "pygments_lexer": "ipython2",
   "version": "2.7.13"
  }
 },
 "nbformat": 4,
 "nbformat_minor": 0
}
