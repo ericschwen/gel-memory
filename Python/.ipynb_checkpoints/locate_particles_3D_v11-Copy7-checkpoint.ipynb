{
 "cells": [
  {
   "cell_type": "markdown",
   "metadata": {},
   "source": [
    "# Feature finding in 3D confocal images"
   ]
  },
  {
   "cell_type": "markdown",
   "metadata": {},
   "source": [
    "Confocal microscopy is a techique that is able to make image slices of your sample. New developments (spinning disk scanning, resonant mirrors) have made this technique sufficiently fast for 3D tracking. Commonly, the sample is mounted on a piezo stage that is able to quickly scan the sample in Z direction. In this way, sequences of Z pictures can be made. By repeating this, the sample can be followed real-time in 3D.\n",
    "\n",
    "Because of the different techniques used for XY and Z resolution, pixel sizes in these directions are mostly not equal. It is easy to extend the method of Crocker & Grier to 3 dimensions with different feature sizes. Trackpy can do this from version v0.3; the only thing you need to do is load your images as 3 dimensional numpy arrays and supply a tuple value for diameter, describing feature size in each dimension."
   ]
  },
  {
   "cell_type": "markdown",
   "metadata": {},
   "source": [
    "First, we initalize IPython and load the required packages. PIMS and Trackpy v0.3 are required."
   ]
  },
  {
   "cell_type": "markdown",
   "metadata": {},
   "source": [
    "## Modification History:\n",
    "\n",
    "v9: edit as necessary for 2017-4-11 data and save path modification. 6-13-17\n",
    "\n",
    "v10: moved annotate3d_zrange to separate file. 6-14-17\n",
    "\n",
    "v11: edit beginning to take a list of files--ended up just moving that to a .py file to run with spyder instead"
   ]
  },
  {
   "cell_type": "markdown",
   "metadata": {},
   "source": [
    "## Setup IPython, pims, trackpy"
   ]
  },
  {
   "cell_type": "code",
   "execution_count": 1,
   "metadata": {
    "collapsed": false
   },
   "outputs": [],
   "source": [
    "%matplotlib inline\n",
    "import matplotlib as mpl\n",
    "import matplotlib.pyplot as plt\n",
    "mpl.rc('figure',  figsize=(10, 6))\n",
    "import numpy as np\n",
    "import pandas as pd\n",
    "from pandas import DataFrame, Series  # for convenience\n",
    "\n",
    "import pims\n",
    "import trackpy as tp\n",
    "import os"
   ]
  },
  {
   "cell_type": "code",
   "execution_count": 2,
   "metadata": {
    "collapsed": false
   },
   "outputs": [],
   "source": [
    "import annotate3d_custom"
   ]
  },
  {
   "cell_type": "markdown",
   "metadata": {},
   "source": [
    "## Import 3D images"
   ]
  },
  {
   "cell_type": "markdown",
   "metadata": {},
   "source": [
    "We make use of `ImageSequenceND`. This reader class searches for files matching a certain search string. The filename should contain indentifiers for each axis (dimension). For example `\"demo_t001_z001.png\"` contains identifiers `t` and `z`. We set the returned image axes to `zyx` and the iterating axis to `t`. In this way we get 3D images indexed by `t`.\n",
    "\n",
    "For this tutorial, the images are inside a zipfile. You can extract the images from the specified archive to check them out."
   ]
  },
  {
   "cell_type": "code",
   "execution_count": 3,
   "metadata": {
    "collapsed": false
   },
   "outputs": [
    {
     "data": {
      "text/plain": [
       "<ImageSequenceND>\n",
       "Source: C:\\Eric\\Xerox Data\\30um gap runs\\8-29-17 0.3333Hz\\0.6\\ampsweep\\0.2\\u_combined\\*.tif\n",
       "Axes: 4\n",
       "Axis 'y' size: 512\n",
       "Axis 'x' size: 512\n",
       "Axis 'z' size: 50\n",
       "Axis 't' size: 6\n",
       "Pixel Datatype: uint8"
      ]
     },
     "execution_count": 3,
     "metadata": {},
     "output_type": "execute_result"
    }
   ],
   "source": [
    "path = r'C:\\Eric\\Xerox Data\\30um gap runs\\8-29-17 0.3333Hz\\0.6\\ampsweep\\0.2\\u_combined\\*.tif';\n",
    "frames = pims.ImageSequenceND(path, axes_identifiers = ['z', 't'])\n",
    "frames.iter_axes = 't'\n",
    "# frames.bundle_axes = ['z', 'y', 'x']    # Not actually necessary. Already bundles z,y,x\n",
    "frames"
   ]
  },
  {
   "cell_type": "markdown",
   "metadata": {},
   "source": [
    "The time-index of the first frame is always 0, regardless of the index in the filename. We can use `pims` 3d scrollable stack feature to display a 3D image. Use the scroll wheel to scroll through the focal planes.\n",
    "\n",
    "This feature will not work online, download the example and run it yourself to checkout the scrollable stack feature."
   ]
  },
  {
   "cell_type": "code",
   "execution_count": 4,
   "metadata": {
    "collapsed": false
   },
   "outputs": [],
   "source": [
    "#frames[0]"
   ]
  },
  {
   "cell_type": "markdown",
   "metadata": {},
   "source": [
    "## Feature finding"
   ]
  },
  {
   "cell_type": "markdown",
   "metadata": {},
   "source": [
    "Try adding a modified annotate3d function to print all of the located particles nearby in the z dimension."
   ]
  },
  {
   "cell_type": "code",
   "execution_count": 5,
   "metadata": {
    "collapsed": true
   },
   "outputs": [],
   "source": [
    "try:\n",
    "    from pims import plot_to_frame, plots_to_frame, normalize\n",
    "except ImportError:\n",
    "    plot_to_frame = None\n",
    "    plots_to_frame = None\n",
    "    normalize = None"
   ]
  },
  {
   "cell_type": "markdown",
   "metadata": {},
   "source": [
    "Now we can use `trackpy.locate` to generate a table (a pandas `DataFrame`) of the feature coordinates. `locate` only requires a feature diameter. This needs to be an odd integer and can be specified for each dimension seperately. The order of dimensions is the same as the order of the image array, typically (z, y, x)."
   ]
  },
  {
   "cell_type": "code",
   "execution_count": 6,
   "metadata": {
    "collapsed": true
   },
   "outputs": [],
   "source": [
    "#tp.locate?"
   ]
  },
  {
   "cell_type": "code",
   "execution_count": null,
   "metadata": {
    "collapsed": false
   },
   "outputs": [],
   "source": [
    "features = tp.locate(frames[1], diameter=(19, 19, 19), invert = False, separation = (7,7,7), preprocess = False, minmass = 60000) \n",
    "# diameter = (z, y x)\n",
    "# preprocess = False disables bandpass filtering by trackpy (do my own first instead)\n",
    "features.head()  # displays first 5 rows"
   ]
  },
  {
   "cell_type": "markdown",
   "metadata": {},
   "source": [
    "Because we specified different diameters for each dimension, trackpy we return `size` and `ep` (static error) for each dimension seperately. We can plot the feature locations on top of the original picture. You can see that there are no features found at the edges. This is because these particles partly fall out of the measurement box."
   ]
  },
  {
   "cell_type": "code",
   "execution_count": null,
   "metadata": {
    "collapsed": false
   },
   "outputs": [],
   "source": [
    "##Save the data to csv file\n",
    "#features.to_csv(path[:-5] + 'features.csv');"
   ]
  },
  {
   "cell_type": "code",
   "execution_count": null,
   "metadata": {
    "collapsed": false
   },
   "outputs": [],
   "source": [
    "annotate3d_custom.annotate3d_zrange(features, frames[1])\n",
    "# seems to be blurring together particles in the z-axis (Counting two as the same if they are close to being on top\n",
    "# of each other).?"
   ]
  },
  {
   "cell_type": "code",
   "execution_count": null,
   "metadata": {
    "collapsed": false
   },
   "outputs": [],
   "source": [
    "# annotate3d_custom.annotate3d_zrange_saveStack(features, frames[1], path)\n",
    "# seems to be blurring together particles in the z-axis (Counting two as the same if they are close to being on top\n",
    "# of each other)."
   ]
  },
  {
   "cell_type": "code",
   "execution_count": null,
   "metadata": {
    "collapsed": false
   },
   "outputs": [],
   "source": [
    "tp.scatter3d(features, frames[1])"
   ]
  },
  {
   "cell_type": "code",
   "execution_count": null,
   "metadata": {
    "collapsed": false
   },
   "outputs": [],
   "source": [
    "[edges, g_r] = tp.pair_correlation_3d(features, 50)\n",
    "fig, ax = plt.subplots()\n",
    "ax.plot(edges[1:], g_r, 'b:o');\n",
    "ax.set(ylabel='G(r)',\n",
    "       xlabel='pixels');\n",
    "# fig.savefig(r'C:\\Users\\Eric\\Documents\\Xerox\\Monthly Meetings\\images\\ts5_bpass_gr.tif',bbox_inches='tight',frameon = False, dpi = 800);"
   ]
  },
  {
   "cell_type": "code",
   "execution_count": null,
   "metadata": {
    "collapsed": false
   },
   "outputs": [],
   "source": [
    "[edges, g_r] = tp.pair_correlation_3d(features, 50)\n",
    "fig, ax = plt.subplots()\n",
    "ax.plot(edges[1:]*0.125, g_r, 'b:o');\n",
    "ax.set(ylabel='G(r)',\n",
    "       xlabel='um');\n",
    "# fig.savefig(r'C:\\Users\\Eric\\Documents\\Xerox\\Monthly Meetings\\images\\ts5_bpass_gr.tif',bbox_inches='tight',frameon = False, dpi = 800);"
   ]
  },
  {
   "cell_type": "code",
   "execution_count": null,
   "metadata": {
    "collapsed": false
   },
   "outputs": [],
   "source": [
    "print(np.max(g_r))\n",
    "print(np.argmax(g_r))\n",
    "print(edges[np.argmax(g_r)+1])\n",
    "\n",
    "print('Features found: {0}'.format(len(features)))"
   ]
  },
  {
   "cell_type": "code",
   "execution_count": null,
   "metadata": {
    "collapsed": false
   },
   "outputs": [],
   "source": [
    "fig, ax = plt.subplots()\n",
    "ax.plot(features['size'], features['mass'],'o');\n",
    "ax.set(ylabel='Mass',\n",
    "       xlabel='size');\n",
    "# fig.savefig(r'C:\\Users\\Eric\\Documents\\Xerox\\Monthly Meetings\\images\\mass_vs_sizx.png',bbox_inches='tight',frameon = False, dpi = 800);"
   ]
  },
  {
   "cell_type": "code",
   "execution_count": null,
   "metadata": {
    "collapsed": false
   },
   "outputs": [],
   "source": [
    "rg = np.mean(features['size']); # radius of gyration\n",
    "mean_radius = np.sqrt(5/3*rg**2);\n",
    "print('mean rg', mean_radius)\n",
    "\n",
    "max_rg = np.max(features['size']);\n",
    "print('max rg', max_rg)"
   ]
  },
  {
   "cell_type": "markdown",
   "metadata": {},
   "source": [
    "To see wether the features are biased by the pixelation, we can take histograms of the decimal part of the coordinates. As particles don't know about the pixel grid, these distributions should be flat."
   ]
  },
  {
   "cell_type": "code",
   "execution_count": null,
   "metadata": {
    "collapsed": false
   },
   "outputs": [],
   "source": [
    "tp.subpx_bias(features)\n",
    "print('Features found: {0}'.format(len(features)))"
   ]
  },
  {
   "cell_type": "code",
   "execution_count": null,
   "metadata": {
    "collapsed": false
   },
   "outputs": [],
   "source": [
    "# rg_x = np.mean(features['size_x']); # radius of gyration\n",
    "# mean_radius_x = np.sqrt(5/3*rg_x**2);\n",
    "# print('mean rg', mean_radius_x)\n",
    "\n",
    "# rg_y = np.mean(features['size_y']); # radius of gyration\n",
    "# mean_radius_y = np.sqrt(5/3*rg_y**2);\n",
    "# print('mean rg', mean_radius_y)\n",
    "\n",
    "# rg_z = np.mean(features['size_z']); # radius of gyration\n",
    "# mean_radius_z = np.sqrt(5/3*rg_z**2);\n",
    "# print('mean rg', mean_radius_z)"
   ]
  }
 ],
 "metadata": {
  "kernelspec": {
   "display_name": "Python 2",
   "language": "python",
   "name": "python2"
  },
  "language_info": {
   "codemirror_mode": {
    "name": "ipython",
    "version": 2
   },
   "file_extension": ".py",
   "mimetype": "text/x-python",
   "name": "python",
   "nbconvert_exporter": "python",
   "pygments_lexer": "ipython2",
   "version": "2.7.13"
  }
 },
 "nbformat": 4,
 "nbformat_minor": 0
}
