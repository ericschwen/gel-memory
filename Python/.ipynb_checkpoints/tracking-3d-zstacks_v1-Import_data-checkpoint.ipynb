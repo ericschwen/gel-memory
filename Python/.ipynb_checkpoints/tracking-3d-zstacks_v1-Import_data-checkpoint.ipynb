{
 "cells": [
  {
   "cell_type": "markdown",
   "metadata": {},
   "source": [
    "# Feature finding in 3D confocal images"
   ]
  },
  {
   "cell_type": "markdown",
   "metadata": {},
   "source": [
    "Confocal microscopy is a techique that is able to make image slices of your sample. New developments (spinning disk scanning, resonant mirrors) have made this technique sufficiently fast for 3D tracking. Commonly, the sample is mounted on a piezo stage that is able to quickly scan the sample in Z direction. In this way, sequences of Z pictures can be made. By repeating this, the sample can be followed real-time in 3D.\n",
    "\n",
    "Because of the different techniques used for XY and Z resolution, pixel sizes in these directions are mostly not equal. It is easy to extend the method of Crocker & Grier to 3 dimensions with different feature sizes. Trackpy can do this from version v0.3; the only thing you need to do is load your images as 3 dimensional numpy arrays and supply a tuple value for diameter, describing feature size in each dimension."
   ]
  },
  {
   "cell_type": "markdown",
   "metadata": {},
   "source": [
    "First, we initalize IPython and load the required packages. PIMS and Trackpy v0.3 are required."
   ]
  },
  {
   "cell_type": "markdown",
   "metadata": {},
   "source": [
    "## Setup IPython, pims, trackpy"
   ]
  },
  {
   "cell_type": "code",
   "execution_count": 5,
   "metadata": {
    "collapsed": false
   },
   "outputs": [],
   "source": [
    "%matplotlib inline\n",
    "import matplotlib as mpl\n",
    "import matplotlib.pyplot as plt\n",
    "mpl.rc('figure',  figsize=(10, 6))\n",
    "import numpy as np\n",
    "import pandas as pd\n",
    "from pandas import DataFrame, Series  # for convenience\n",
    "\n",
    "import pims\n",
    "import trackpy as tp\n",
    "import os"
   ]
  },
  {
   "cell_type": "markdown",
   "metadata": {},
   "source": [
    "## Import 3D images"
   ]
  },
  {
   "cell_type": "markdown",
   "metadata": {},
   "source": [
    "We make use of `ImageSequenceND`. This reader class searches for files matching a certain search string. The filename should contain indentifiers for each axis (dimension). For example `\"demo_t001_z001.png\"` contains identifiers `t` and `z`. We set the returned image axes to `zyx` and the iterating axis to `t`. In this way we get 3D images indexed by `t`.\n",
    "\n",
    "For this tutorial, the images are inside a zipfile. You can extract the images from the specified archive to check them out."
   ]
  },
  {
   "cell_type": "code",
   "execution_count": 6,
   "metadata": {
    "collapsed": false
   },
   "outputs": [
    {
     "data": {
      "text/plain": [
       "<ImageSequenceND>\n",
       "Source: C:\\Eric\\Xerox Data\\30um gap runs\\6-28-17 0.3333Hz\\1.0V\\zstacks_p0\\u_combined\\*.tif\n",
       "Axes: 4\n",
       "Axis 'y' size: 512\n",
       "Axis 'x' size: 512\n",
       "Axis 'z' size: 50\n",
       "Axis 't' size: 3\n",
       "Pixel Datatype: uint8"
      ]
     },
     "execution_count": 6,
     "metadata": {},
     "output_type": "execute_result"
    }
   ],
   "source": [
    "path = r'C:\\Eric\\Xerox Data\\30um gap runs\\6-28-17 0.3333Hz\\1.0V\\zstacks_p0\\u_combined\\*.tif';\n",
    "frames = pims.ImageSequenceND(path, axes_identifiers = ['t', 'z'])\n",
    "# frames.bundle_axes = ['z', 'y', 'x']    # Not actually necessary. Already bundles z,y,x\n",
    "frames.iter_axes = 't'\n",
    "frames"
   ]
  },
  {
   "cell_type": "markdown",
   "metadata": {},
   "source": [
    "The time-index of the first frame is always 0, regardless of the index in the filename. We can use `pims` 3d scrollable stack feature to display a 3D image. Use the scroll wheel to scroll through the focal planes.\n",
    "\n",
    "This feature will not work online, download the example and run it yourself to checkout the scrollable stack feature."
   ]
  },
  {
   "cell_type": "code",
   "execution_count": 7,
   "metadata": {
    "collapsed": false
   },
   "outputs": [],
   "source": [
    "# frames[1]"
   ]
  },
  {
   "cell_type": "markdown",
   "metadata": {},
   "source": [
    "## Feature finding"
   ]
  },
  {
   "cell_type": "markdown",
   "metadata": {},
   "source": [
    "Now we can use `trackpy.locate` to generate a table (a pandas `DataFrame`) of the feature coordinates. `locate` only requires a feature diameter. This needs to be an odd integer and can be specified for each dimension seperately. The order of dimensions is the same as the order of the image array, typically (z, y, x)."
   ]
  },
  {
   "cell_type": "code",
   "execution_count": 8,
   "metadata": {
    "collapsed": false
   },
   "outputs": [],
   "source": [
    "# features = tp.locate(frames[0], diameter=(15, 15, 15), invert = False, separation = (7,7,7), preprocess = False, minmass = 60000) \n",
    "# # preprocess = False disables bandpass filtering by trackpy (do my own first instead)\n",
    "# features.head()  # displays first 5 rows\n",
    "# print('Features found: {0}'.format(len(features)))"
   ]
  },
  {
   "cell_type": "markdown",
   "metadata": {},
   "source": [
    "## Batch processing"
   ]
  },
  {
   "cell_type": "markdown",
   "metadata": {},
   "source": [
    "We use the optimized settings and iterate through the full movie."
   ]
  },
  {
   "cell_type": "code",
   "execution_count": 9,
   "metadata": {
    "collapsed": false
   },
   "outputs": [
    {
     "name": "stdout",
     "output_type": "stream",
     "text": [
      "Frame 2: 1416 features\n"
     ]
    }
   ],
   "source": [
    "f = tp.batch(frames, diameter=(15, 15, 15), invert = False, separation = (7,7,7), preprocess = False, minmass = 60000)"
   ]
  },
  {
   "cell_type": "code",
   "execution_count": 10,
   "metadata": {
    "collapsed": false
   },
   "outputs": [],
   "source": [
    "# f.head()"
   ]
  },
  {
   "cell_type": "markdown",
   "metadata": {},
   "source": [
    "## Linking"
   ]
  },
  {
   "cell_type": "markdown",
   "metadata": {},
   "source": [
    "The linking features of trackpy support an arbitrary number of dimensions. The argument pos_columns will determine which and how many dimensions will be used. The standard set of columns is `['x', 'y']`. For 3d we have to set this to `['x', 'y', 'z']`. \n",
    "Linking treats all dimensions equally. For this example we are using a file with unequal pixel sizes: 0.21 microns in XY and 0.75 microns in Z, so we first define new columns in units of microns."
   ]
  },
  {
   "cell_type": "code",
   "execution_count": 11,
   "metadata": {
    "collapsed": false
   },
   "outputs": [],
   "source": [
    "f['xum'] = f['x'] * 0.125\n",
    "f['yum'] = f['y'] * 0.125\n",
    "f['zum'] = f['z'] * 0.12"
   ]
  },
  {
   "cell_type": "markdown",
   "metadata": {},
   "source": [
    "Experimentally, there is a tradeoff between framerate and z pixel size. If you want to have higher z resolution, you scan slower and your framerate goes down. In this specific experiment the z resolution is low, so that we are able to link particles between subsequent frames. We try several linking distances here."
   ]
  },
  {
   "cell_type": "code",
   "execution_count": 12,
   "metadata": {
    "collapsed": false
   },
   "outputs": [
    {
     "name": "stdout",
     "output_type": "stream",
     "text": [
      "Frame 2: 1416 trajectories present\n"
     ]
    },
    {
     "data": {
      "image/png": "[encoded data removed]",
      "text/plain": [
       "<matplotlib.figure.Figure at 0xfb6eb38>"
      ]
     },
     "metadata": {},
     "output_type": "display_data"
    }
   ],
   "source": [
    "for search_range in [0.5, 1.0, 1.5]:\n",
    "    linked = tp.link_df(f, search_range, pos_columns=['xum', 'yum', 'zum'])\n",
    "    hist, bins = np.histogram(np.bincount(linked.particle.astype(int)),\n",
    "                              bins=np.arange(30), normed=True)\n",
    "    plt.step(bins[1:], hist, label='range = {} microns'.format(search_range))\n",
    "plt.ylabel('relative frequency')\n",
    "plt.xlabel('track length (frames)')\n",
    "plt.legend();"
   ]
  },
  {
   "cell_type": "markdown",
   "metadata": {},
   "source": [
    "## Mean squared displacement"
   ]
  },
  {
   "cell_type": "markdown",
   "metadata": {},
   "source": [
    "We use a search range of 2.0 microns, because there is no significant improvement between 2.0 and 2.5 microns."
   ]
  },
  {
   "cell_type": "code",
   "execution_count": 13,
   "metadata": {
    "collapsed": false
   },
   "outputs": [
    {
     "name": "stdout",
     "output_type": "stream",
     "text": [
      "Frame 2: 1416 trajectories present\n"
     ]
    }
   ],
   "source": [
    "linked = tp.link_df(f, 1.0, pos_columns=['xum', 'yum', 'zum'])"
   ]
  },
  {
   "cell_type": "code",
   "execution_count": 18,
   "metadata": {
    "collapsed": true
   },
   "outputs": [],
   "source": [
    "tp.link_df?"
   ]
  },
  {
   "cell_type": "code",
   "execution_count": 17,
   "metadata": {
    "collapsed": false
   },
   "outputs": [],
   "source": [
    "# linked.head()\n",
    "\n",
    "#Save the data to csv file\n",
    "linked.to_csv(path[:-5] + 'linked.csv');"
   ]
  },
  {
   "cell_type": "markdown",
   "metadata": {},
   "source": [
    "With the trajectories we can calculate the mean squared displacement. To calculate the mean squared displacement from all three dimensions, we need to tell trackpy which position columns to use. It defaults to `['x', 'y']`.\n",
    "\n",
    "We specify `mpp=1` because we have already transformed our data to microns."
   ]
  },
  {
   "cell_type": "code",
   "execution_count": 14,
   "metadata": {
    "collapsed": false
   },
   "outputs": [
    {
     "data": {
      "image/png": "[encoded data removed]",
      "text/plain": [
       "<matplotlib.figure.Figure at 0xf3084e0>"
      ]
     },
     "metadata": {},
     "output_type": "display_data"
    }
   ],
   "source": [
    "msd3D = tp.emsd(linked, mpp=1, fps=1, max_lagtime=20,\n",
    "                pos_columns=['xum', 'yum', 'zum'])\n",
    "ax = msd3D.plot(style='o', label='MSD in 3D')\n",
    "ax.set_ylabel(r'$\\langle \\Delta r^2 \\rangle$ [$\\mu$m$^2$]')\n",
    "ax.set_xlabel('lag time $cycles$')\n",
    "ax.set_xlim(0, 3)\n",
    "ax.set_ylim(0, 0.5)\n",
    "ax.legend(loc='upper left');"
   ]
  },
  {
   "cell_type": "markdown",
   "metadata": {},
   "source": [
    "The mean squared displacement in three dimensional Brownian motion is described by the following relation:\n",
    "\n",
    "$$\\langle x^2 \\rangle = 6 D t$$\n",
    "\n",
    "Let's do a fit and calculate the diffusion constant!"
   ]
  },
  {
   "cell_type": "code",
   "execution_count": 15,
   "metadata": {
    "collapsed": false
   },
   "outputs": [
    {
     "name": "stdout",
     "output_type": "stream",
     "text": [
      "The diffusion constant is 0.02 μm²/s\n"
     ]
    },
    {
     "data": {
      "image/png": "[encoded data removed]",
      "text/plain": [
       "<matplotlib.figure.Figure at 0xf254a58>"
      ]
     },
     "metadata": {},
     "output_type": "display_data"
    }
   ],
   "source": [
    "slope = np.linalg.lstsq(msd3D.index[:, np.newaxis], msd3D)[0][0]\n",
    "\n",
    "ax = msd3D.plot(style='o', label='MSD in 3D')\n",
    "ax.plot(np.arange(20), slope * np.arange(20), label='linear fit')\n",
    "ax.set(ylabel=r'$\\langle \\Delta r^2 \\rangle$ [$\\mu$m$^2$]', xlabel='lag time $cycles$')\n",
    "ax.set(xlim=(0, 3), ylim=(0, 0.5))\n",
    "ax.legend(loc='upper left')\n",
    "print(r'The diffusion constant is {0:.2f} μm²/s'.format(slope / 6))"
   ]
  }
 ],
 "metadata": {
  "kernelspec": {
   "display_name": "Python 2",
   "language": "python",
   "name": "python2"
  },
  "language_info": {
   "codemirror_mode": {
    "name": "ipython",
    "version": 2
   },
   "file_extension": ".py",
   "mimetype": "text/x-python",
   "name": "python",
   "nbconvert_exporter": "python",
   "pygments_lexer": "ipython2",
   "version": "2.7.13"
  }
 },
 "nbformat": 4,
 "nbformat_minor": 0
}
